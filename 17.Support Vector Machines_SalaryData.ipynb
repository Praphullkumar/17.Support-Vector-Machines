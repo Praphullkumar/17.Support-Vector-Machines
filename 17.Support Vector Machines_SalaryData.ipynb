{
 "cells": [
  {
   "cell_type": "markdown",
   "id": "ad8c9b4c",
   "metadata": {},
   "source": [
    "# SalaryData"
   ]
  },
  {
   "cell_type": "code",
   "execution_count": 1,
   "id": "cd79bb16",
   "metadata": {},
   "outputs": [],
   "source": [
    "import pandas as pd\n",
    "import numpy as np\n",
    "from sklearn.feature_extraction.text import CountVectorizer, TfidfVectorizer\n",
    "from sklearn.preprocessing import StandardScaler\n",
    "from sklearn import svm\n",
    "from sklearn.svm import SVC\n",
    "from sklearn.model_selection import GridSearchCV\n",
    "from sklearn.metrics import classification_report\n",
    "from sklearn.metrics import accuracy_score, confusion_matrix\n",
    "from sklearn.model_selection import train_test_split, cross_val_score"
   ]
  },
  {
   "cell_type": "code",
   "execution_count": 2,
   "id": "d4e3ec96",
   "metadata": {},
   "outputs": [],
   "source": [
    "sal_train = pd.read_csv('SalaryData_Train(1).csv')"
   ]
  },
  {
   "cell_type": "code",
   "execution_count": 3,
   "id": "4bcfb5ec",
   "metadata": {},
   "outputs": [],
   "source": [
    "sal_test = pd.read_csv('SalaryData_Test(1).csv')"
   ]
  },
  {
   "cell_type": "code",
   "execution_count": 4,
   "id": "60b1475e",
   "metadata": {},
   "outputs": [
    {
     "data": {
      "text/plain": [
       "Index(['age', 'workclass', 'education', 'educationno', 'maritalstatus',\n",
       "       'occupation', 'relationship', 'race', 'sex', 'capitalgain',\n",
       "       'capitalloss', 'hoursperweek', 'native', 'Salary'],\n",
       "      dtype='object')"
      ]
     },
     "execution_count": 4,
     "metadata": {},
     "output_type": "execute_result"
    }
   ],
   "source": [
    "sal_train.columns"
   ]
  },
  {
   "cell_type": "code",
   "execution_count": 5,
   "id": "5baaf878",
   "metadata": {},
   "outputs": [
    {
     "data": {
      "text/plain": [
       "Index(['age', 'workclass', 'education', 'educationno', 'maritalstatus',\n",
       "       'occupation', 'relationship', 'race', 'sex', 'capitalgain',\n",
       "       'capitalloss', 'hoursperweek', 'native', 'Salary'],\n",
       "      dtype='object')"
      ]
     },
     "execution_count": 5,
     "metadata": {},
     "output_type": "execute_result"
    }
   ],
   "source": [
    "sal_test.columns"
   ]
  },
  {
   "cell_type": "code",
   "execution_count": 6,
   "id": "8fdf519b",
   "metadata": {},
   "outputs": [],
   "source": [
    "string_col=['workclass','education','maritalstatus','occupation','relationship','race','sex','native']"
   ]
  },
  {
   "cell_type": "code",
   "execution_count": 7,
   "id": "744d74de",
   "metadata": {},
   "outputs": [],
   "source": [
    "from sklearn import preprocessing\n",
    "label_encoder=preprocessing.LabelEncoder()\n",
    "for i in string_col:\n",
    "    sal_train[i]=label_encoder.fit_transform(sal_train[i])\n",
    "    sal_test[i]=label_encoder.fit_transform(sal_test[i])\n",
    "    "
   ]
  },
  {
   "cell_type": "code",
   "execution_count": 8,
   "id": "506eebcf",
   "metadata": {},
   "outputs": [],
   "source": [
    "columns=list(sal_train.columns)\n",
    "train_x=sal_train[columns[0:13]]\n",
    "train_y=sal_train[columns[13]]\n",
    "test_x=sal_test[columns[0:13]]\n",
    "test_y=sal_test[columns[13]]\n"
   ]
  },
  {
   "cell_type": "code",
   "execution_count": 9,
   "id": "4e36c441",
   "metadata": {},
   "outputs": [],
   "source": [
    "train_x=sal_train.iloc[0:500,0:13]\n",
    "train_y=sal_train.iloc[0:500,13]\n",
    "test_x=sal_test.iloc[0:300,0:13]\n",
    "test_y=sal_test.iloc[0:300,13]\n"
   ]
  },
  {
   "cell_type": "code",
   "execution_count": 10,
   "id": "7c1d6f71",
   "metadata": {},
   "outputs": [],
   "source": [
    "#SVM Classification using kernels: linear,poly,rbf\n",
    "from sklearn.svm import SVC"
   ]
  },
  {
   "cell_type": "code",
   "execution_count": 11,
   "id": "f556c3d6",
   "metadata": {},
   "outputs": [],
   "source": [
    "#kernel=linear\n",
    "model_linear=SVC(kernel='linear')\n",
    "model_linear.fit(train_x,train_y)\n",
    "train_pred_lin=model_linear.predict(train_x)\n",
    "test_pred_lin=model_linear.predict(test_x)\n",
    "train_lin_acc=np.mean(train_pred_lin==train_y)\n",
    "test_lin_acc=np.mean(test_pred_lin==test_y)\n",
    "\n"
   ]
  },
  {
   "cell_type": "code",
   "execution_count": 12,
   "id": "8faa78e9",
   "metadata": {},
   "outputs": [
    {
     "data": {
      "text/plain": [
       "0.818"
      ]
     },
     "execution_count": 12,
     "metadata": {},
     "output_type": "execute_result"
    }
   ],
   "source": [
    "train_lin_acc"
   ]
  },
  {
   "cell_type": "code",
   "execution_count": 13,
   "id": "de7746a7",
   "metadata": {},
   "outputs": [
    {
     "data": {
      "text/plain": [
       "0.8166666666666667"
      ]
     },
     "execution_count": 13,
     "metadata": {},
     "output_type": "execute_result"
    }
   ],
   "source": [
    "test_lin_acc"
   ]
  },
  {
   "cell_type": "code",
   "execution_count": 14,
   "id": "37351020",
   "metadata": {},
   "outputs": [],
   "source": [
    "#kernel=poly\n",
    "model_poly=SVC(kernel='poly')\n",
    "model_poly.fit(train_x,train_y)\n",
    "train_pred_poly=model_poly.predict(train_x)\n",
    "test_pred_poly=model_poly.predict(test_x)\n",
    "train_poly_acc=np.mean(train_pred_poly==train_y)\n",
    "test_poly_acc=np.mean(test_pred_poly==test_y)\n"
   ]
  },
  {
   "cell_type": "code",
   "execution_count": 15,
   "id": "e9b717a4",
   "metadata": {},
   "outputs": [
    {
     "data": {
      "text/plain": [
       "0.812"
      ]
     },
     "execution_count": 15,
     "metadata": {},
     "output_type": "execute_result"
    }
   ],
   "source": [
    "train_poly_acc"
   ]
  },
  {
   "cell_type": "code",
   "execution_count": 16,
   "id": "190a1e9e",
   "metadata": {},
   "outputs": [
    {
     "data": {
      "text/plain": [
       "0.8033333333333333"
      ]
     },
     "execution_count": 16,
     "metadata": {},
     "output_type": "execute_result"
    }
   ],
   "source": [
    "test_poly_acc"
   ]
  },
  {
   "cell_type": "code",
   "execution_count": 17,
   "id": "ced37c31",
   "metadata": {},
   "outputs": [],
   "source": [
    "#kernel=rbf\n",
    "model_rbf=SVC(kernel='rbf')\n",
    "model_rbf.fit(train_x,train_y)\n",
    "train_pred_rbf=model_rbf.predict(train_x)\n",
    "test_pred_rbf=model_rbf.predict(test_x)\n",
    "train_rbf_acc=np.mean(train_pred_rbf==train_y)\n",
    "test_rbf_acc=np.mean(test_pred_rbf==test_y)\n"
   ]
  },
  {
   "cell_type": "code",
   "execution_count": 18,
   "id": "22d31c66",
   "metadata": {},
   "outputs": [
    {
     "data": {
      "text/plain": [
       "0.812"
      ]
     },
     "execution_count": 18,
     "metadata": {},
     "output_type": "execute_result"
    }
   ],
   "source": [
    "train_rbf_acc"
   ]
  },
  {
   "cell_type": "code",
   "execution_count": 19,
   "id": "fe768521",
   "metadata": {},
   "outputs": [
    {
     "data": {
      "text/plain": [
       "0.8033333333333333"
      ]
     },
     "execution_count": 19,
     "metadata": {},
     "output_type": "execute_result"
    }
   ],
   "source": [
    "test_rbf_acc"
   ]
  }
 ],
 "metadata": {
  "kernelspec": {
   "display_name": "Python 3 (ipykernel)",
   "language": "python",
   "name": "python3"
  },
  "language_info": {
   "codemirror_mode": {
    "name": "ipython",
    "version": 3
   },
   "file_extension": ".py",
   "mimetype": "text/x-python",
   "name": "python",
   "nbconvert_exporter": "python",
   "pygments_lexer": "ipython3",
   "version": "3.9.7"
  }
 },
 "nbformat": 4,
 "nbformat_minor": 5
}
